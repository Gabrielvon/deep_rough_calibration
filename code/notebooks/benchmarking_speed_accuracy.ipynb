{
 "cells": [
  {
   "cell_type": "markdown",
   "metadata": {},
   "source": [
    "# Benchmark"
   ]
  },
  {
   "cell_type": "markdown",
   "metadata": {},
   "source": [
    "Change directory to code."
   ]
  },
  {
   "cell_type": "code",
   "execution_count": 1,
   "metadata": {},
   "outputs": [],
   "source": [
    "import os\n",
    "import numpy as np\n",
    "import logging\n",
    "import tensorflow as tf\n",
    "import importlib.util\n",
    "import sys\n",
    "\n",
    "# Important directories\n",
    "code_dir = os.path.dirname(os.getcwd())\n",
    "deep_cal_dir = os.path.dirname(os.path.dirname(os.getcwd()))\n",
    "\n",
    "# Allows to import modules below\n",
    "sys.path.insert(0, code_dir)\n",
    "\n",
    "from ann.helpers import load_labeled_csv\n",
    "from ann.neural_network import dense_nn\n",
    "from predict import predict"
   ]
  },
  {
   "cell_type": "code",
   "execution_count": 2,
   "metadata": {},
   "outputs": [],
   "source": [
    "# Logging stuff\n",
    "logger = logging.getLogger(\"benchmarking\")\n",
    "logger.setLevel(logging.INFO)\n",
    "fh = logging.FileHandler(deep_cal_dir + \"/code/logs/benchmarking.log\")    \n",
    "formatter = logging.Formatter('%(asctime)s - %(name)s - %(levelname)s - %(message)s')\n",
    "fh.setFormatter(formatter)\n",
    "logger.addHandler(fh)"
   ]
  },
  {
   "cell_type": "markdown",
   "metadata": {},
   "source": [
    "## Benchmark preparations"
   ]
  },
  {
   "cell_type": "code",
   "execution_count": 3,
   "metadata": {},
   "outputs": [],
   "source": [
    "# Labeled data configuration\n",
    "train_filename = deep_cal_dir + '/data/heston/training_data.csv'\n",
    "test_filename = deep_cal_dir + '/data/heston/testing_data.csv'\n",
    "feature_cols = [ _ for _ in range(7)]\n",
    "label_cols = [7]\n",
    "\n",
    "# Configuration of neural network\n",
    "layer_sizes = [32,2,64]\n",
    "\n",
    "# Directory to stored checkpoint files of NN\n",
    "ckpt_dir = deep_cal_dir + '/results/' + 'nn=32,2,64_lr=4.210271E-03_mbs=1024,pkeep=1.0000'"
   ]
  },
  {
   "cell_type": "markdown",
   "metadata": {},
   "source": [
    "Preprocessing input data."
   ]
  },
  {
   "cell_type": "code",
   "execution_count": 4,
   "metadata": {},
   "outputs": [],
   "source": [
    "# Read training and validation data named tuples into memory.\n",
    "logger.info(\"Importing and normalizing input labeled data.\")\n",
    "\n",
    "train_tuple = load_labeled_csv(train_filename, feature_cols, label_cols)\n",
    "test_tuple = load_labeled_csv(test_filename, feature_cols, label_cols)\n",
    "\n",
    "# Normalize test data by training statistics\n",
    "train_mean = np.mean(train_tuple.features, axis=0)\n",
    "train_std = np.std(train_tuple.features, axis=0)\n",
    "\n",
    "test_tuple.features -= train_mean\n",
    "test_tuple.features /= train_std\n",
    "\n",
    "logger.info('Finished import and normalization of input data.')"
   ]
  },
  {
   "cell_type": "markdown",
   "metadata": {},
   "source": [
    "Building the neural network approximating the implied volatility function."
   ]
  },
  {
   "cell_type": "code",
   "execution_count": 5,
   "metadata": {},
   "outputs": [],
   "source": [
    "logger.info(\"Building computational graph of a fully connected neural network.\")\n",
    "nn = dense_nn(test_tuple.nb_features, layer_sizes, test_tuple.nb_labels)\n",
    "logger.info('Building completed.')"
   ]
  },
  {
   "cell_type": "markdown",
   "metadata": {},
   "source": [
    "Initiating interactive tensorflow session and loading training results."
   ]
  },
  {
   "cell_type": "code",
   "execution_count": 6,
   "metadata": {},
   "outputs": [
    {
     "name": "stdout",
     "output_type": "stream",
     "text": [
      "INFO:tensorflow:Restoring parameters from /Users/stemper/Dropbox/Promotion/projects/deep_calibration/results/nn=32,2,64_lr=4.210271E-03_mbs=1024,pkeep=1.0000/final_model\n"
     ]
    }
   ],
   "source": [
    "logger.info('Starting interactive tensorflow session.')\n",
    "sess = tf.InteractiveSession()\n",
    "saver = tf.train.Saver()\n",
    "saver.restore(sess, tf.train.latest_checkpoint(ckpt_dir))\n",
    "logger.info('Checkpoint loaded.')"
   ]
  },
  {
   "cell_type": "markdown",
   "metadata": {},
   "source": [
    "### Timing"
   ]
  },
  {
   "cell_type": "code",
   "execution_count": 7,
   "metadata": {},
   "outputs": [
    {
     "name": "stdout",
     "output_type": "stream",
     "text": [
      "34.8 ms ± 2.45 ms per loop (mean ± std. dev. of 7 runs, 10 loops each)\n"
     ]
    }
   ],
   "source": [
    "%timeit test_results = predict(test_tuple.features, nn, sess)"
   ]
  },
  {
   "cell_type": "markdown",
   "metadata": {},
   "source": [
    "### Accuracy"
   ]
  },
  {
   "cell_type": "code",
   "execution_count": 12,
   "metadata": {},
   "outputs": [],
   "source": [
    "import matplotlib.pyplot as plt\n",
    "import matplotlib.ticker as ticker\n",
    "import seaborn as sns\n",
    "from mpl_toolkits.mplot3d import Axes3D\n",
    "\n",
    "def set_style():\n",
    "\n",
    "    sns.set_context(\"paper\")\n",
    "\n",
    "    sns.set(font='serif')\n",
    "    \n",
    "    sns.set_style(\"white\", {\n",
    "        \"font.family\": \"serif\",\n",
    "        \"font.serif\": [\"Times\", \"Palatino\", \"serif\"]\n",
    "    })"
   ]
  },
  {
   "cell_type": "code",
   "execution_count": 9,
   "metadata": {},
   "outputs": [],
   "source": [
    "set_style()\n",
    "%matplotlib inline"
   ]
  },
  {
   "cell_type": "code",
   "execution_count": 10,
   "metadata": {},
   "outputs": [],
   "source": [
    "test_results = predict(test_tuple.features, nn, sess)\n",
    "absolute_error = np.abs(test_results-test_tuple.labels)\n",
    "relative_error = absolute_error/test_tuple.labels"
   ]
  },
  {
   "cell_type": "code",
   "execution_count": 22,
   "metadata": {},
   "outputs": [
    {
     "data": {
      "image/png": "[encoded data removed]",
      "text/plain": [
       "<matplotlib.figure.Figure at 0x15159465f8>"
      ]
     },
     "metadata": {},
     "output_type": "display_data"
    }
   ],
   "source": [
    "def draw_RE_hist(relative_error):\n",
    "    \n",
    "    fig, ax = plt.subplots(2,1)\n",
    "#     fig.set_title('Absolute and relative error')\n",
    "\n",
    "#     ax[0,0].hist(absolute_error, log=True, bins=200)\n",
    "#     ax[0,0].set_xlabel('Absolute error')\n",
    "#     ax[0,0].set_ylabel('Probability')\n",
    "# #     ax[0,0].set_xlim(0, 1)\n",
    "#     # ax.set_ylim(0, 0.03)\n",
    "#     ax[0,0].grid(True)\n",
    "    \n",
    "#     ax[1,0].hist(absolute_error, bins=500, log=True,cumulative=True, density=True)\n",
    "#     ax[1,0].set_xlabel('Relative error')\n",
    "#     ax[1,0].set_ylabel('Probability')\n",
    "#     ax[1,0].set_xlim(0, 0.5)\n",
    "#     # ax.set_ylim(0, 0.03)\n",
    "#     ax[1,0].grid(True)\n",
    "    \n",
    "    ax[0].hist(relative_error, bins=10000, density=True)\n",
    "    ax[0].set_xlabel('Relative error')\n",
    "    ax[0].set_ylabel('Frequency density')\n",
    "    ax[0].xaxis.set_major_formatter(ticker.PercentFormatter(xmax=1))\n",
    "    ax[0].set_xlim(0, 0.5)\n",
    "    # ax.set_ylim(0, 0.03)\n",
    "    ax[0].grid(True)\n",
    "    \n",
    "    \n",
    "    ax[1].hist(relative_error, bins=10000, cumulative=True, density=True)\n",
    "    ax[1].set_xlabel('Relative error')\n",
    "    ax[1].set_ylabel('Cumulative frequency')\n",
    "    ax[1].xaxis.set_major_formatter(ticker.PercentFormatter(xmax=1))\n",
    "    ax[1].set_xlim(0, 0.5)\n",
    "    # ax.set_ylim(0, 0.03)\n",
    "    ax[1].grid(True)   \n",
    "    \n",
    "    plt.tight_layout()\n",
    "    \n",
    "    fig.savefig('test.pdf')\n",
    "\n",
    "draw_RE_hist(relative_error)\n",
    "\n"
   ]
  },
  {
   "cell_type": "code",
   "execution_count": null,
   "metadata": {},
   "outputs": [],
   "source": []
  }
 ],
 "metadata": {
  "kernelspec": {
   "display_name": "Python 3",
   "language": "python",
   "name": "python3"
  },
  "language_info": {
   "codemirror_mode": {
    "name": "ipython",
    "version": 3
   },
   "file_extension": ".py",
   "mimetype": "text/x-python",
   "name": "python",
   "nbconvert_exporter": "python",
   "pygments_lexer": "ipython3",
   "version": "3.6.3"
  }
 },
 "nbformat": 4,
 "nbformat_minor": 2
}
