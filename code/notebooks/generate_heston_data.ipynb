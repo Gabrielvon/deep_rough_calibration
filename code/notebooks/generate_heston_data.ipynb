{
 "cells": [
  {
   "cell_type": "markdown",
   "metadata": {},
   "source": [
    "# Synthetic generation of Heston data"
   ]
  },
  {
   "cell_type": "markdown",
   "metadata": {},
   "source": [
    "Here, we generate labeled Heston data for various tasks and figures in the paper."
   ]
  },
  {
   "cell_type": "code",
   "execution_count": null,
   "metadata": {},
   "outputs": [],
   "source": [
    "# Standard library imports\n",
    "import os\n",
    "import datetime\n",
    "from os.path import dirname as up\n",
    "import numpy as np\n",
    "import pandas as pd\n",
    "import QuantLib as ql\n",
    "\n",
    "from py_vollib.black_scholes.implied_volatility import implied_volatility\n",
    "from py_lets_be_rational.exceptions import BelowIntrinsicException\n",
    "import sklearn.utils\n",
    "import logging\n",
    "\n",
    "# Important directories\n",
    "deep_cal_dir = up(up(os.getcwd()))\n",
    "code_dir = up(os.getcwd())\n",
    "\n",
    "# Logging stuff\n",
    "logger = logging.getLogger(\"heston\")\n",
    "logger.setLevel(logging.INFO)\n",
    "fh = logging.FileHandler(code_dir + \"/logs/heston_simulation.log\")    \n",
    "formatter = logging.Formatter('%(asctime)s - %(name)s - %(levelname)s - %(message)s')\n",
    "fh.setFormatter(formatter)\n",
    "logger.addHandler(fh)"
   ]
  },
  {
   "cell_type": "code",
   "execution_count": null,
   "metadata": {},
   "outputs": [],
   "source": [
    "def heston_pricer(lambd, vbar, eta, rho, v0, r, q, tau, S0, K):\n",
    "    \"\"\"\n",
    "    Computes European Call price under Heston dynamics with closedform solution.\n",
    "\n",
    "    :param lambd: mean-reversion speed\n",
    "    :param vbar: long-term average variance\n",
    "    :param eta: volatility of variance\n",
    "    :param rho: correlation between stock and vol\n",
    "    :param v0: spot variance\n",
    "    :param r: risk-free interest rate\n",
    "    :param q: dividend rate\n",
    "    :param tau: time to maturity in years (year = 365 days)\n",
    "    :param S0: initial spot price\n",
    "    :param K: strike price\n",
    "\n",
    "    :return: Heston price, Black-Scholes implied volatility\n",
    "    :rtype: float, float\n",
    "\n",
    "    \"\"\"\n",
    "    today = datetime.date.today()\n",
    "    calculation_date = ql.Date(today.day, today.month, today.year)\n",
    "     # Which convention should I use here?\n",
    "    day_count = ql.Actual365Fixed()\n",
    "    ql.Settings.instance().evaluationDate = calculation_date\n",
    "\n",
    "    # Option data\n",
    "    option_type = ql.Option.Call\n",
    "    payoff = ql.PlainVanillaPayoff(option_type, K)\n",
    "    # 'Dirty' way: Convert year fraction to days and add to today\n",
    "    maturity_date = calculation_date + int(round(tau * 365))\n",
    "    exercise = ql.EuropeanExercise(maturity_date)\n",
    "    european_option = ql.VanillaOption(payoff, exercise)\n",
    "\n",
    "    # Heston process  \n",
    "    spot_handle = ql.QuoteHandle(\n",
    "        ql.SimpleQuote(S0))\n",
    "\n",
    "    flat_ts = ql.YieldTermStructureHandle(\n",
    "        ql.FlatForward(calculation_date, r, day_count))\n",
    "\n",
    "    dividend_yield = ql.YieldTermStructureHandle(\n",
    "        ql.FlatForward(calculation_date, q, day_count))\n",
    "\n",
    "    heston_process = ql.HestonProcess(flat_ts,\n",
    "                                      dividend_yield,\n",
    "                                      spot_handle,\n",
    "                                      v0,\n",
    "                                      lambd,\n",
    "                                      vbar,\n",
    "                                      eta,\n",
    "                                      rho)\n",
    "\n",
    "    engine = ql.AnalyticHestonEngine(ql.HestonModel(heston_process), 1E-15, 1000000)\n",
    "    european_option.setPricingEngine(engine)\n",
    "\n",
    "    # Check for numerical instabilities\n",
    "    try:\n",
    "        \n",
    "        price = european_option.NPV()\n",
    "        \n",
    "        if price <= 0 or price < (S0 - K):\n",
    "        \n",
    "            iv = np.nan\n",
    "\n",
    "            logger.debug('NumStabProblem: Price {}. Intrinsic {}. Time {}. Strike {}.'.format(\n",
    "                        price, S0-K, tau, K))\n",
    "\n",
    "            return price, iv\n",
    "    \n",
    "        else:\n",
    "\n",
    "            logger.debug('Success: Price {} > intrinsic {}.'.format(price, S0-K))\n",
    "\n",
    "            iv = implied_volatility(price, S0, K, tau, r, 'c')\n",
    "\n",
    "            return price, iv\n",
    "        \n",
    "    except RuntimeError:\n",
    "        \n",
    "        logger.info('RuntimeError: Intrinsic {}. Time {}. Strike {}.'.format(S0-K, tau, K))\n",
    "        \n",
    "        price = np.nan\n",
    "        iv = np.nan\n",
    "        \n",
    "        return price, iv"
   ]
  },
  {
   "cell_type": "markdown",
   "metadata": {},
   "source": [
    "Sanitycheck against Premia Pricer"
   ]
  },
  {
   "cell_type": "code",
   "execution_count": null,
   "metadata": {},
   "outputs": [],
   "source": [
    "# Market parameters\n",
    "S0 = 1\n",
    "r = 0 \n",
    "\n",
    "# Heston parameters \n",
    "lambd = 1.3253 \n",
    "vbar = 0.0354 \n",
    "eta = 0.3877 \n",
    "rho = -0.7165 \n",
    "v0 = 0.0174 \n",
    "tau = 0.3 \n",
    "K = 0.9\n",
    "q = 0\n",
    "\n",
    "heston_pricer(lambd, vbar, eta, rho, v0, r, q, tau, S0, K)"
   ]
  },
  {
   "cell_type": "markdown",
   "metadata": {},
   "source": [
    "## Smile data generation"
   ]
  },
  {
   "cell_type": "code",
   "execution_count": null,
   "metadata": {},
   "outputs": [],
   "source": [
    "nb_samples = 1000\n",
    "\n",
    "# Market parameters\n",
    "S0 = 1\n",
    "r = 0\n",
    "q = 0\n",
    "\n",
    "# Heston parameters\n",
    "lambd = 1.3253\n",
    "vbar = 0.0354\n",
    "eta = 0.3877\n",
    "rho = -0.7165\n",
    "v0 = 0.0174\n",
    "T = 0.05\n",
    "\n",
    "log_moneyness = np.linspace(-0.1, 0.28, nb_samples)\n",
    "strikes = np.exp(log_moneyness)*S0\n",
    "\n",
    "# Initialisation of df for labeled data\n",
    "columns = ['strikes','log_moneyness', 'iv']\n",
    "df = pd.DataFrame(np.zeros((nb_samples,3)), columns=columns)\n",
    "\n",
    "# Filling in parameter data\n",
    "df['strikes'] = strikes\n",
    "df['log_moneyness'] = log_moneyness"
   ]
  },
  {
   "cell_type": "code",
   "execution_count": null,
   "metadata": {},
   "outputs": [],
   "source": [
    "for i in range(nb_samples):\n",
    "    \n",
    "    K = df.strikes[i]\n",
    "    \n",
    "    # Calculate Black-Scholes implied vol from Heston price.\n",
    "    price, iv = heston_pricer(lambd, vbar, eta, rho, v0, r, q, T, S0, K)\n",
    "    \n",
    "    df.loc[i, 'price'] = price\n",
    "    df.loc[i, 'iv'] = iv   \n",
    "    \n",
    "df.dropna(inplace=True)"
   ]
  },
  {
   "cell_type": "code",
   "execution_count": null,
   "metadata": {},
   "outputs": [],
   "source": [
    "%matplotlib inline\n",
    "import matplotlib.pyplot as plt\n",
    "ax = df.plot(x='log_moneyness', y='iv')\n",
    "fig = plt.gca()\n",
    "plt.savefig('test.pdf')"
   ]
  },
  {
   "cell_type": "code",
   "execution_count": null,
   "metadata": {},
   "outputs": [],
   "source": [
    "df.to_csv(deep_cal_dir +'/data/heston/volsmile_slice_0.3.csv', index=False)"
   ]
  },
  {
   "cell_type": "markdown",
   "metadata": {},
   "source": [
    "## Labeled Data for Neural Network"
   ]
  },
  {
   "cell_type": "markdown",
   "metadata": {},
   "source": [
    "Preparations "
   ]
  },
  {
   "cell_type": "code",
   "execution_count": null,
   "metadata": {},
   "outputs": [],
   "source": [
    "# PARAMETERS\n",
    "random_seed = 0\n",
    "nb_samples = 10**6\n",
    "\n",
    "# Heston parameter, bounds by Moodley (2005)\n",
    "lambd_bounds = [0, 10]\n",
    "vbar_bounds = [0, 1]\n",
    "eta_bounds = [0, 5]\n",
    "rho_bounds = [-1, 0]\n",
    "v0_bounds = [0, 1]\n",
    "\n",
    "# Market params\n",
    "S0 = 1\n",
    "r = 0\n",
    "q = 0\n",
    "\n",
    "# Import and preprocessing of import data\n",
    "df0 = pd.read_csv(deep_cal_dir + '/data/raw_data/liquidity_bid_ask_spread/strike_maturity.csv')\n",
    "df0.drop(['Unnamed: 0'], axis=1, inplace=True)\n",
    "\n",
    "# Initialisation of df for labeled data\n",
    "columns = ['lambda', 'vbar', 'eta', 'rho', 'v0', 'iv']\n",
    "df = pd.DataFrame(np.zeros((nb_samples,6)), columns=columns)\n",
    "\n",
    "# Merge df0 and df\n",
    "df = pd.concat([df,df0], axis=1)\n",
    "\n",
    "# Counters\n",
    "count = 0\n",
    "error_count = 0\n",
    "\n",
    "#PRNG setting\n",
    "np.random.seed(random_seed)"
   ]
  },
  {
   "cell_type": "markdown",
   "metadata": {},
   "source": [
    "Now on to simulation of labeled data."
   ]
  },
  {
   "cell_type": "code",
   "execution_count": null,
   "metadata": {},
   "outputs": [],
   "source": [
    "while count < nb_samples:\n",
    "    \n",
    "    # Take respective (strike, maturity) pair from precomputed data.\n",
    "    K = df.strike[count]\n",
    "    T = df.maturity[count]\n",
    "\n",
    "    # Sample uniformly from Heston parameter space.\n",
    "    lambd = np.random.uniform(lambd_bounds[0], lambd_bounds[1])\n",
    "    vbar = np.random.uniform(vbar_bounds[0], vbar_bounds[1])\n",
    "    eta = np.random.uniform(eta_bounds[0], eta_bounds[1])\n",
    "    rho = np.random.uniform(rho_bounds[0], rho_bounds[1])\n",
    "    v0 = np.random.uniform(v0_bounds[0], v0_bounds[1])\n",
    "\n",
    "    # Calculate Black-Scholes implied vol from Heston price.\n",
    "    price, iv = heston_pricer(lambd, vbar, eta, rho, v0, r, q, T, S0, K)\n",
    "        \n",
    "    df.loc[count, ['lambda', 'vbar', 'eta', 'rho', 'v0', 'iv']] = [lambd, vbar, eta, rho, v0, iv]\n",
    "\n",
    "    count += 1     \n",
    "\n",
    "    logger.info('Samples: {}'.format(count))\n",
    "\n",
    "df.shape"
   ]
  },
  {
   "cell_type": "markdown",
   "metadata": {},
   "source": [
    "Shuffle output data, split into training/validation/test sets and write to .csv files."
   ]
  },
  {
   "cell_type": "code",
   "execution_count": null,
   "metadata": {
    "scrolled": true
   },
   "outputs": [],
   "source": [
    "# Delete all samples with NaN IV\n",
    "df.dropna(inplace=True)\n",
    "df.reset_index(drop=True, inplace=True)\n",
    "df = df.truncate(after=990000)\n",
    "\n",
    "df = sklearn.utils.shuffle(df)\n",
    "\n",
    "# Dissecting labeled pairs into training, validation and testing sets.\n",
    "\n",
    "train_df, validation_df, test_df, _ = np.split(df, [9*10**5, 9*10**5+45000, 9*10**5+90000], axis=0)\n",
    "\n",
    "print('Shapes: \\n train {}, validation {}, test {}'.format(train_df.shape, validation_df.shape,\n",
    "                                                  test_df.shape))"
   ]
  },
  {
   "cell_type": "code",
   "execution_count": null,
   "metadata": {},
   "outputs": [],
   "source": [
    "# Write labeled data to .csv file.\n",
    "train_df.to_csv(deep_cal_dir +'/data/heston/training_data1.csv', index=False)\n",
    "validation_df.to_csv(deep_cal_dir + '/data/heston/validation_data1.csv', index=False)\n",
    "test_df.to_csv(deep_cal_dir + '/data/heston/testing_data1.csv', index=False)"
   ]
  },
  {
   "cell_type": "markdown",
   "metadata": {},
   "source": [
    "## Surface generation"
   ]
  },
  {
   "cell_type": "code",
   "execution_count": null,
   "metadata": {},
   "outputs": [],
   "source": [
    "%matplotlib inline\n",
    "\n",
    "nb_samples_moneyness = 200\n",
    "nb_samples_maturities = 200\n",
    "\n",
    "# Market parameters\n",
    "S0 = 1\n",
    "r = 0\n",
    "\n",
    "# Heston parameters\n",
    "lambd = 3.3\n",
    "vbar = 0.96\n",
    "eta = 2.26\n",
    "rho = -.52\n",
    "v0 = 0.53\n",
    "maturities = np.linspace(1/365, 0.4, nb_samples_maturities)\n",
    "moneyness = np.linspace(0.5, 1.5, nb_samples_moneyness)\n",
    "\n",
    "# Initialisation of df for labeled data\n",
    "columns = ['strikes','moneyness', 'maturity','iv']\n",
    "df = pd.DataFrame(np.zeros((nb_samples_moneyness*nb_samples_maturities,4)), columns=columns)\n",
    "\n",
    "# Filling df with values\n",
    "xx, yy = np.meshgrid(maturities, moneyness)\n",
    "df.maturity = xx.flatten()\n",
    "df.moneyness = yy.flatten()\n",
    "df['log_moneyness'] = np.log(df.moneyness)\n",
    "df.strikes = S0/df.moneyness"
   ]
  },
  {
   "cell_type": "code",
   "execution_count": null,
   "metadata": {},
   "outputs": [],
   "source": [
    "df.head(5)"
   ]
  },
  {
   "cell_type": "code",
   "execution_count": null,
   "metadata": {},
   "outputs": [],
   "source": [
    "for i in range(len(df.index)):\n",
    "    \n",
    "    K = df.strikes[i]\n",
    "    T = df.maturity[i]\n",
    "    \n",
    "    # Calculate Black-Scholes implied vol from Heston price.\n",
    "    price, iv = heston_pricer(lambd, vbar, eta, rho, v0, r, T, S0, K)\n",
    "    \n",
    "    # Zero IV stems from numerical instability, so disregard\n",
    "    if iv == 0:\n",
    "        \n",
    "        iv = np.nan\n",
    "    \n",
    "    df.loc[i, 'iv'] = iv   "
   ]
  },
  {
   "cell_type": "code",
   "execution_count": null,
   "metadata": {},
   "outputs": [],
   "source": [
    "import matplotlib.pyplot as plt\n",
    "from mpl_toolkits.mplot3d import Axes3D\n",
    "fig = plt.figure()\n",
    "ax = fig.gca(projection='3d')\n",
    "ax.plot_trisurf(df.log_moneyness, df.maturity, df.iv, linewidth=0.2)"
   ]
  },
  {
   "cell_type": "code",
   "execution_count": null,
   "metadata": {},
   "outputs": [],
   "source": [
    "df = df[df.maturity > 1/365]"
   ]
  },
  {
   "cell_type": "code",
   "execution_count": null,
   "metadata": {},
   "outputs": [],
   "source": []
  }
 ],
 "metadata": {
  "kernelspec": {
   "display_name": "Python 3",
   "language": "python",
   "name": "python3"
  },
  "language_info": {
   "codemirror_mode": {
    "name": "ipython",
    "version": 3
   },
   "file_extension": ".py",
   "mimetype": "text/x-python",
   "name": "python",
   "nbconvert_exporter": "python",
   "pygments_lexer": "ipython3",
   "version": "3.6.7"
  }
 },
 "nbformat": 4,
 "nbformat_minor": 2
}
