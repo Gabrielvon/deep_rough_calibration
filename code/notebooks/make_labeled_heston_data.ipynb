{
 "cells": [
  {
   "cell_type": "markdown",
   "metadata": {},
   "source": [
    "# Synthetic generation of Heston data"
   ]
  },
  {
   "cell_type": "markdown",
   "metadata": {},
   "source": [
    "In this notebook we generate the labeled data for training the Heston model."
   ]
  },
  {
   "cell_type": "code",
   "execution_count": null,
   "metadata": {},
   "outputs": [],
   "source": [
    "# Standard library imports\n",
    "import os\n",
    "from os.path import dirname as up\n",
    "import numpy as np\n",
    "import pandas as pd\n",
    "\n",
    "import rpy2\n",
    "import rpy2.robjects as robjects\n",
    "from py_vollib.black_scholes.implied_volatility import implied_volatility\n",
    "from py_lets_be_rational.exceptions import BelowIntrinsicException\n",
    "import sklearn.utils\n",
    "import numba\n",
    "import logging\n",
    "\n",
    "# Important directories\n",
    "deep_cal_dir = up(up(os.getcwd()))\n",
    "code_dir = up(os.getcwd())\n",
    "\n",
    "r = robjects.r\n",
    "r.source(code_dir +\"/heston.R\")\n",
    "r_pricer = r('HestonCallClosedForm')\n",
    "\n",
    "# Logging stuff\n",
    "logger = logging.getLogger(\"heston\")\n",
    "logger.setLevel(logging.INFO)\n",
    "fh = logging.FileHandler(code_dir + \"/logs/heston_simulation.log\")    \n",
    "formatter = logging.Formatter('%(asctime)s - %(name)s - %(levelname)s - %(message)s')\n",
    "fh.setFormatter(formatter)\n",
    "logger.addHandler(fh)"
   ]
  },
  {
   "cell_type": "code",
   "execution_count": null,
   "metadata": {},
   "outputs": [],
   "source": [
    "def heston_pricer(lambd, vbar, eta, rho, v0, r, tau, S0, K):\n",
    "    \"\"\"\n",
    "    Computes European Call price under Heston dynamics with closedform solution.\n",
    "\n",
    "    :param lambd: mean-reversion speed\n",
    "    :param vbar: long-term average volatility\n",
    "    :param eta: volatility of vol\n",
    "    :param rho: correlation between stock and vol\n",
    "    :param v0: intial volatility\n",
    "    :param r: risk-free interest rate\n",
    "    :param tau: time to maturity (year = 365 days)\n",
    "    :param S0: initial share price\n",
    "    :param K: strike price\n",
    "\n",
    "    :return: Heston price, Black-Scholes implied volatility\n",
    "    :rtype: float, float\n",
    "\n",
    "    \"\"\"\n",
    "    \n",
    "    try:\n",
    "        price = r_pricer(lambd, vbar, eta, rho, v0, r, tau, S0, K)[0]\n",
    "\n",
    "        try:\n",
    "\n",
    "            iv = implied_volatility(price, S0, K, tau, r, 'c')\n",
    "\n",
    "        except BelowIntrinsicException:\n",
    "\n",
    "            logger.info('Below Intrinsic Exception with parameters:', lambd, vbar, \n",
    "                   eta, rho, v0, r, tau, S0, K)\n",
    "\n",
    "            iv = None\n",
    "\n",
    "    except rpy2.rinterface.RRuntimeError:\n",
    "\n",
    "        logger.info('R Runtime Error with parameters:', lambd, vbar, eta, rho, \n",
    "              v0, r, tau, S0, K)\n",
    "\n",
    "        price, iv = None, None\n",
    "\n",
    "    return price, iv"
   ]
  },
  {
   "cell_type": "markdown",
   "metadata": {},
   "source": [
    "### Preprocessing"
   ]
  },
  {
   "cell_type": "code",
   "execution_count": null,
   "metadata": {},
   "outputs": [],
   "source": [
    "# PARAMETERS\n",
    "random_seed = 42\n",
    "nb_samples = 10**6\n",
    "\n",
    "# Heston parameter, bounds by Moodley (2005)\n",
    "lambd_bounds = [0, 10]\n",
    "vbar_bounds = [0, 1]\n",
    "eta_bounds = [0, 5]\n",
    "rho_bounds = [-1, 0]\n",
    "v0_bounds = [0, 1]\n",
    "S0 = 1\n",
    "r = 0\n",
    "\n",
    "# Import and preprocessing of import data\n",
    "df = pd.read_csv(deep_cal_dir + '/data/raw_data/liquidity_bid_ask_spread/money_maturities.csv')\n",
    "moneyness = df['moneyness'].values\n",
    "maturity = df['time to maturity (years)'].values\n",
    "strike = S0/moneyness\n",
    "\n",
    "# Initialisation of df for labeled data\n",
    "columns = ['lambda', 'vbar', 'eta', 'rho', 'v0', 'maturity', 'moneyness', 'iv']\n",
    "df = pd.DataFrame(np.zeros((nb_samples,8)), columns=columns)\n",
    "\n",
    "# Counter that tracks the amount of computed labeled pairs\n",
    "count = 0"
   ]
  },
  {
   "cell_type": "markdown",
   "metadata": {},
   "source": [
    "### Simulation"
   ]
  },
  {
   "cell_type": "code",
   "execution_count": null,
   "metadata": {},
   "outputs": [],
   "source": [
    "np.random.seed(random_seed)\n",
    "\n",
    "logger.info(\"lambda, vbar, eta, rho, v0, maturity, moneyness, price, \\\n",
    "       intrinsic, price < intrinsic, abs(price) < 1E-5, OK?  \\n\" )\n",
    "\n",
    "while count < nb_samples:\n",
    "\n",
    "    # Sample uniformly from Heston parameter space.\n",
    "    lambd = np.random.uniform(lambd_bounds[0], lambd_bounds[1])\n",
    "    vbar = np.random.uniform(vbar_bounds[0], vbar_bounds[1])\n",
    "    eta = np.random.uniform(eta_bounds[0], eta_bounds[1])\n",
    "    rho = np.random.uniform(rho_bounds[0], rho_bounds[1])\n",
    "    v0 = np.random.uniform(v0_bounds[0], v0_bounds[1])\n",
    "\n",
    "    # Take respective (strike, maturity) pair from precomputed data.\n",
    "    K = strike[count]\n",
    "    T = maturity[count]\n",
    "    M = moneyness[count]\n",
    "\n",
    "    # Calculate Black-Scholes implied vol from Heston price.\n",
    "    price, iv = heston_pricer(lambd, vbar, eta, rho, v0, r, T, S0, K)\n",
    "\n",
    "    # Running through possible cases returned by heston_pricer.\n",
    "    if iv is not None:\n",
    "\n",
    "        df.loc[count, columns] = [lambd, vbar, eta, rho, v0, T, M, iv]\n",
    "\n",
    "#       logger.info('Count {}/{}'.format(count + 1, nb_samples))\n",
    "\n",
    "        # Increase running counter.\n",
    "        count += 1\n",
    "\n",
    "    elif price is not None:\n",
    "\n",
    "        # Collect all necessary information to judge why it failed.\n",
    "        error_data = (lambd, vbar, eta, rho, v0, T, M, \n",
    "                      price, np.max(S0 - K, 0), price < np.max(S0 - K), \n",
    "                      np.abs(price) < 1E-5, \n",
    "                      (price < np.max(S0 - K)) or (np.abs(price) < 1E-5))\n",
    "\n",
    "        logger.info(\"%s \\n\" % repr(error_data))\n",
    "\n",
    "    else:\n",
    "\n",
    "        error_data = (lambd, vbar, eta, rho, v0, T, M)\n",
    "\n",
    "        logger.info(\"%s \\n\" % repr(error_data))"
   ]
  },
  {
   "cell_type": "markdown",
   "metadata": {},
   "source": [
    "Shuffle output data, split into training/validation/test sets and write to .csv files."
   ]
  },
  {
   "cell_type": "code",
   "execution_count": null,
   "metadata": {
    "scrolled": true
   },
   "outputs": [],
   "source": [
    "df = sklearn.utils.shuffle(df)\n",
    "\n",
    "# Dissecting labeled pairs into training, validation and testing sets.\n",
    "train_df, validation_df, test_df = np.split(df, [8*10**5, 9*10**5], axis=0)\n",
    "\n",
    "print('Shapes: \\n train {}, validation {}, test {}'.format(train_df.shape, validation_df.shape,\n",
    "                                                  test_df.shape))\n",
    "\n",
    "# Write labeled data to .csv file.\n",
    "train_df.to_csv(deep_cal_dir +'/data/heston/training_data1.csv', index=False)\n",
    "validation_df.to_csv(deep_cal_dir + '/data/heston/validation_data1.csv', index=False)\n",
    "test_df.to_csv(deep_cal_dir + '/data/heston/testing_data1.csv', index=False)"
   ]
  },
  {
   "cell_type": "code",
   "execution_count": null,
   "metadata": {},
   "outputs": [],
   "source": []
  }
 ],
 "metadata": {
  "kernelspec": {
   "display_name": "Python 3",
   "language": "python",
   "name": "python3"
  },
  "language_info": {
   "codemirror_mode": {
    "name": "ipython",
    "version": 3
   },
   "file_extension": ".py",
   "mimetype": "text/x-python",
   "name": "python",
   "nbconvert_exporter": "python",
   "pygments_lexer": "ipython3",
   "version": "3.6.4"
  }
 },
 "nbformat": 4,
 "nbformat_minor": 1
}
