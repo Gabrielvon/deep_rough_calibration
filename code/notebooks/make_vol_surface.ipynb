{
 "cells": [
  {
   "cell_type": "markdown",
   "metadata": {},
   "source": [
    "# Make implied volatility surface"
   ]
  },
  {
   "cell_type": "markdown",
   "metadata": {},
   "source": [
    "In this notebook we construct implied volatility surfaces from empirical as well as model data."
   ]
  },
  {
   "cell_type": "code",
   "execution_count": 1,
   "metadata": {},
   "outputs": [],
   "source": [
    "# Standard library imports\n",
    "import numpy as np\n",
    "import pandas as pd\n",
    "import os\n",
    "import logging\n",
    "from os.path import dirname as up\n",
    "\n",
    "# Important paths\n",
    "code_dir = up(os.getcwd())\n",
    "deep_cal_dir = up(up(os.getcwd()))\n",
    "\n",
    "# Problem-specific libraries\n",
    "from sklearn.linear_model import LinearRegression\n",
    "from py_vollib.black_scholes.implied_volatility import implied_volatility\n",
    "from py_lets_be_rational.exceptions import BelowIntrinsicException\n",
    "\n",
    "# Logging stuff\n",
    "logger = logging.getLogger(\"iv_surface_construction\")\n",
    "logger.setLevel(logging.INFO)\n",
    "fh = logging.FileHandler(code_dir + \"/logs/iv_surface.log\")    \n",
    "formatter = logging.Formatter('%(asctime)s - %(name)s - %(levelname)s - %(message)s')\n",
    "fh.setFormatter(formatter)\n",
    "logger.addHandler(fh)\n",
    "\n",
    "# Plotting\n",
    "import matplotlib.pyplot as plt\n",
    "import matplotlib.ticker as ticker\n",
    "import seaborn as sns\n",
    "from mpl_toolkits.mplot3d import Axes3D\n",
    "\n",
    "def set_style():\n",
    "\n",
    "    sns.set_context(\"paper\")\n",
    "\n",
    "    sns.set(font='serif')\n",
    "    \n",
    "    sns.set_style(\"white\", {\n",
    "        \"font.family\": \"serif\",\n",
    "        \"font.serif\": [\"Times\", \"Palatino\", \"serif\"]\n",
    "    })"
   ]
  },
  {
   "cell_type": "code",
   "execution_count": 2,
   "metadata": {},
   "outputs": [],
   "source": [
    "set_style()\n",
    "%matplotlib inline"
   ]
  },
  {
   "cell_type": "markdown",
   "metadata": {},
   "source": [
    "## Empirical SPX volatility surface"
   ]
  },
  {
   "cell_type": "markdown",
   "metadata": {},
   "source": [
    "Read in preprocessed SPX data from disk and then use put-call-parity to get market interest rates. For each given maturity, look at all put and call prices and then run a regression to get a rate. "
   ]
  },
  {
   "cell_type": "code",
   "execution_count": 3,
   "metadata": {},
   "outputs": [],
   "source": [
    "df = pd.read_csv(deep_cal_dir + '/data/raw_data/processed_spx_calls_all_liquids.csv')\n",
    "df2 = pd.read_csv(deep_cal_dir + '/data/raw_data/processed_spx_puts_all_liquids.csv')"
   ]
  },
  {
   "cell_type": "code",
   "execution_count": 4,
   "metadata": {},
   "outputs": [],
   "source": [
    "# Checking if dfs behave like expected:\n",
    "assert((df.strike == df2.strike).all())\n",
    "assert(((df.moneyness - 1/df2.moneyness)<1E-10).all())\n",
    "assert((df['time to maturity (years)'] == df2['time to maturity (years)']).all())\n",
    "\n",
    "unique_times = df['time to maturity (years)'].unique()\n",
    "nb_unique_times = unique_times.shape[0]\n",
    "\n",
    "# Extracting empirical interest rates from put-call-parity by linear regression\n",
    "# among all options of a given maturity.\n",
    "for _ in np.arange(nb_unique_times):\n",
    "    \n",
    "    T = unique_times[_]\n",
    "    \n",
    "    logger.info('Examining time to maturity: {}.'.format(T))\n",
    "     \n",
    "    relevant_call_df = df[df['time to maturity (years)'] == T]\n",
    "    relevant_put_df = df2[df2['time to maturity (years)'] == T]\n",
    "    \n",
    "    logger.debug('Call df: {}. Put df: {}.'.format(relevant_call_df, relevant_put_df))\n",
    "    \n",
    "    lr = LinearRegression(fit_intercept=True, n_jobs=-1)\n",
    "    lr.fit(relevant_call_df.strike.values.reshape(-1,1), relevant_call_df.Mid - relevant_put_df.Mid)\n",
    "    slope = lr.coef_[0]\n",
    "\n",
    "    r = -1/T*np.log(-slope)\n",
    "    \n",
    "    logger.info('Sklearn slope: {}. Computed interest rate: {}.'.format(slope,r))\n",
    "    \n",
    "    df.loc[df['time to maturity (years)'] == T, 'rate'] = r\n"
   ]
  },
  {
   "cell_type": "markdown",
   "metadata": {},
   "source": [
    "Compute implied volatility from SPX market prices."
   ]
  },
  {
   "cell_type": "code",
   "execution_count": 5,
   "metadata": {},
   "outputs": [],
   "source": [
    "# spot price\n",
    "S = 2731.25"
   ]
  },
  {
   "cell_type": "code",
   "execution_count": 6,
   "metadata": {},
   "outputs": [],
   "source": [
    "# Wrapper around implied volatility to catch exceptions and set to 0\n",
    "def iv(price, spot, strike, maturity, rate):\n",
    "\n",
    "    try:\n",
    "\n",
    "        return implied_volatility(price, spot, strike, maturity, rate, 'c')\n",
    "\n",
    "    except BelowIntrinsicException:\n",
    "\n",
    "        logger.info('Below Intrinsic Exception with' + \n",
    "                    'parameters: {}, {}, {}, {}, {}'.format(price, spot, strike,\n",
    "                                                            maturity, rate))\n",
    "\n",
    "        return float('NaN')\n",
    "    \n",
    "iv = np.vectorize (iv)"
   ]
  },
  {
   "cell_type": "code",
   "execution_count": 7,
   "metadata": {},
   "outputs": [],
   "source": [
    "df['iv'] = iv(df['Mid'], S, S/df.moneyness, df['time to maturity (years)'], df.rate)"
   ]
  },
  {
   "cell_type": "markdown",
   "metadata": {},
   "source": [
    "Prepare plotting data and plot"
   ]
  },
  {
   "cell_type": "code",
   "execution_count": 12,
   "metadata": {},
   "outputs": [],
   "source": [
    "# Preprocessing\n",
    "moneyness_min = 0.75\n",
    "moneyness_max = 1.1\n",
    "maturity_min = 1/365\n",
    "maturity_max = 0.2\n",
    "\n",
    "# Remove all options with little or no liquidity\n",
    "plot_df = df[(df['moneyness']<moneyness_max) & (df['moneyness']>moneyness_min) & (df['time to maturity (years)']<maturity_max) & (df['time to maturity (years)']>maturity_min)]\n",
    "plot_df = plot_df[plot_df['Open Int'] != 0]\n",
    "\n",
    "# Remove all options with no computed IV\n",
    "plot_df = plot_df[plot_df['iv'].notnull()]\n",
    "\n",
    "logmoneyness = np.log(plot_df.moneyness.values)\n",
    "maturities = plot_df['time to maturity (years)'].values\n",
    "iv = plot_df.iv.values"
   ]
  },
  {
   "cell_type": "code",
   "execution_count": 76,
   "metadata": {},
   "outputs": [],
   "source": [
    "def plot_iv_surface(logmoney, maturities, iv, azim, elev, name):\n",
    "    \n",
    "    fig = plt.figure()\n",
    "    ax = fig.gca(projection='3d')\n",
    "    \n",
    "    ax.azim = azim\n",
    "    ax.elev = elev\n",
    "    \n",
    "    ax.set_xlabel('$m$')\n",
    "    ax.set_ylabel('$T$')\n",
    "    ax.set_zlabel('$\\sigma_{iv}(m, T)$')\n",
    "\n",
    "    ax.yaxis.set_ticks(np.linspace(0,0.2, 4, endpoint=False))\n",
    "    ax.xaxis.set_ticks(np.linspace(-0.25, 0.1, 8, endpoint=True))\n",
    "    ax.invert_xaxis()\n",
    "\n",
    "    ax.xaxis.set_major_formatter(ticker.FormatStrFormatter('%0.2f'))\n",
    "    \n",
    "    ax.plot_trisurf(logmoneyness, maturities, iv, antialiased=True, cmap = plt.cm.Spectral)\n",
    "\n",
    "    plt.tight_layout()\n",
    "    fig.savefig(name)\n",
    "    \n",
    "    plt.close()\n",
    "\n",
    "plot_iv_surface(logmoneyness, maturities, iv, 110, 13, 'test.pdf')\n"
   ]
  },
  {
   "cell_type": "code",
   "execution_count": 77,
   "metadata": {},
   "outputs": [],
   "source": [
    "for angle in range(0,360, 10):\n",
    "    plot_iv_surface(logmoneyness, maturities, iv, angle, 10, 'test_{}.pdf'.format(angle))\n",
    "    "
   ]
  },
  {
   "cell_type": "code",
   "execution_count": null,
   "metadata": {},
   "outputs": [],
   "source": []
  }
 ],
 "metadata": {
  "kernelspec": {
   "display_name": "Python 3",
   "language": "python",
   "name": "python3"
  },
  "language_info": {
   "codemirror_mode": {
    "name": "ipython",
    "version": 3
   },
   "file_extension": ".py",
   "mimetype": "text/x-python",
   "name": "python",
   "nbconvert_exporter": "python",
   "pygments_lexer": "ipython3",
   "version": "3.6.3"
  }
 },
 "nbformat": 4,
 "nbformat_minor": 1
}
