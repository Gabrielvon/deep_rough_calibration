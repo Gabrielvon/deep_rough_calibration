{
 "cells": [
  {
   "cell_type": "markdown",
   "metadata": {},
   "source": [
    "# Make empirical IV surface"
   ]
  },
  {
   "cell_type": "markdown",
   "metadata": {},
   "source": [
    "In this notebook we construct implied volatility surfaces from empirical data."
   ]
  },
  {
   "cell_type": "code",
   "execution_count": 1,
   "metadata": {},
   "outputs": [],
   "source": [
    "# Standard library imports\n",
    "import numpy as np\n",
    "import pandas as pd\n",
    "import os\n",
    "import logging\n",
    "from os.path import dirname as up\n",
    "\n",
    "# Important paths\n",
    "code_dir = up(os.getcwd())\n",
    "deep_cal_dir = up(up(os.getcwd()))\n",
    "\n",
    "# Problem-specific libraries\n",
    "from sklearn.linear_model import LinearRegression\n",
    "from py_vollib.black_scholes.implied_volatility import implied_volatility\n",
    "from py_lets_be_rational.exceptions import BelowIntrinsicException\n",
    "\n",
    "# Logging stuff\n",
    "logger = logging.getLogger(\"iv_surface_construction\")\n",
    "logger.setLevel(logging.INFO)\n",
    "fh = logging.FileHandler(code_dir + \"/logs/iv_surface.log\")    \n",
    "formatter = logging.Formatter('%(asctime)s - %(name)s - %(levelname)s - %(message)s')\n",
    "fh.setFormatter(formatter)\n",
    "logger.addHandler(fh)\n",
    "\n",
    "# Plotting\n",
    "import matplotlib.pyplot as plt\n",
    "import matplotlib.ticker as ticker\n",
    "import seaborn as sns\n",
    "from mpl_toolkits.mplot3d import Axes3D\n",
    "\n",
    "def set_style():\n",
    "\n",
    "    sns.set_context(\"paper\")\n",
    "\n",
    "    sns.set(font='serif')\n",
    "    \n",
    "    sns.set_style(\"white\", {\n",
    "        \"font.family\": \"serif\",\n",
    "        \"font.serif\": [\"Times\", \"Palatino\", \"serif\"]\n",
    "    })\n",
    "    \n",
    "set_style()\n",
    "%matplotlib inline"
   ]
  },
  {
   "cell_type": "markdown",
   "metadata": {},
   "source": [
    "Read in preprocessed SPX data from disk and then use put-call-parity to get market interest rates. For each given maturity, look at all put and call prices and then run a regression to get a rate. "
   ]
  },
  {
   "cell_type": "code",
   "execution_count": 2,
   "metadata": {},
   "outputs": [],
   "source": [
    "df = pd.read_csv(deep_cal_dir + '/data/raw_data/processed_spx_calls_all_liquids.csv')\n",
    "df2 = pd.read_csv(deep_cal_dir + '/data/raw_data/processed_spx_puts_all_liquids.csv')"
   ]
  },
  {
   "cell_type": "code",
   "execution_count": 3,
   "metadata": {},
   "outputs": [],
   "source": [
    "# Remove illiquid options with zero open interest\n",
    "df = df[df['Open Int'] != 0]\n",
    "df2 = df2[df2['Open Int'] != 0]\n",
    "\n",
    "# Remove options with zero Bid or Ask because distorts Mid price\n",
    "df = df[(df.Bid !=0) & (df.Ask !=0)]\n",
    "df2 = df2[(df2.Bid !=0) & (df2.Ask !=0)]\n",
    "\n",
    "# For exploiting put-call-parity always need matching options\n",
    "idx = df.index.intersection(df2.index)\n",
    "df = df.loc[idx]\n",
    "df2 = df2.loc[idx]"
   ]
  },
  {
   "cell_type": "code",
   "execution_count": 4,
   "metadata": {},
   "outputs": [],
   "source": [
    "# Checking if dfs behave like expected:\n",
    "assert((df.strike == df2.strike).all())\n",
    "assert(((df.log_moneyness == df2.log_moneyness).all()))\n",
    "assert((df['time to maturity (years)'] == df2['time to maturity (years)']).all())\n",
    "\n",
    "unique_times = df['time to maturity (years)'].unique()\n",
    "\n",
    "# Extracting empirical interest rates from put-call-parity by linear regression\n",
    "# among all options of a given maturity.\n",
    "for T in unique_times:\n",
    "    \n",
    "    logger.info('Examining time to maturity: {}.'.format(T))\n",
    "     \n",
    "    relevant_call_df = df[df['time to maturity (years)'] == T]\n",
    "    relevant_put_df = df2[df2['time to maturity (years)'] == T]\n",
    "    \n",
    "    logger.debug('Call df: {}. Put df: {}.'.format(relevant_call_df, relevant_put_df))\n",
    "    \n",
    "    lr = LinearRegression(fit_intercept=True, n_jobs=-1)\n",
    "    lr.fit(relevant_call_df.strike.values.reshape(-1,1), relevant_call_df.Mid - relevant_put_df.Mid)\n",
    "    slope = lr.coef_[0]\n",
    "\n",
    "    r = -1/T*np.log(-slope)\n",
    "    \n",
    "    logger.info('Sklearn slope: {}. Computed interest rate: {}.'.format(slope,r))\n",
    "    \n",
    "    df.loc[df['time to maturity (years)'] == T, 'rate'] = r\n"
   ]
  },
  {
   "cell_type": "code",
   "execution_count": 5,
   "metadata": {},
   "outputs": [
    {
     "data": {
      "text/plain": [
       "<matplotlib.axes._subplots.AxesSubplot at 0x110804a90>"
      ]
     },
     "execution_count": 5,
     "metadata": {},
     "output_type": "execute_result"
    },
    {
     "data": {
      "image/png": "[encoded data removed]",
      "text/plain": [
       "<matplotlib.figure.Figure at 0x108bd3320>"
      ]
     },
     "metadata": {},
     "output_type": "display_data"
    }
   ],
   "source": [
    "df.plot(x='time to maturity (years)', y = 'rate')"
   ]
  },
  {
   "cell_type": "markdown",
   "metadata": {},
   "source": [
    "Rates differ immensely across maturities. So fix to most common rate."
   ]
  },
  {
   "cell_type": "code",
   "execution_count": 7,
   "metadata": {},
   "outputs": [],
   "source": [
    "df.rate = 0.024"
   ]
  },
  {
   "cell_type": "markdown",
   "metadata": {},
   "source": [
    "Compute implied volatility from SPX market prices."
   ]
  },
  {
   "cell_type": "code",
   "execution_count": 8,
   "metadata": {},
   "outputs": [],
   "source": [
    "# spot price\n",
    "S = 2731.25"
   ]
  },
  {
   "cell_type": "code",
   "execution_count": 9,
   "metadata": {},
   "outputs": [],
   "source": [
    "# Wrapper around implied volatility to catch exceptions and set to NaN\n",
    "def iv(price, spot, strike, maturity, rate):\n",
    "\n",
    "    try:\n",
    "\n",
    "        return implied_volatility(price, spot, strike, maturity, rate, 'c')\n",
    "\n",
    "    except BelowIntrinsicException:\n",
    "\n",
    "        return np.nan\n",
    "    \n",
    "iv = np.vectorize (iv)"
   ]
  },
  {
   "cell_type": "code",
   "execution_count": 10,
   "metadata": {},
   "outputs": [],
   "source": [
    "df['iv'] = iv(df['Mid'], S, df.strike, df['time to maturity (years)'], df.rate)"
   ]
  },
  {
   "cell_type": "markdown",
   "metadata": {},
   "source": [
    "Prepare plotting data and plot"
   ]
  },
  {
   "cell_type": "code",
   "execution_count": 16,
   "metadata": {},
   "outputs": [],
   "source": [
    "# Remove all rows with NaN IV\n",
    "df.dropna(inplace=True)\n",
    "\n",
    "# Cutting off parts of the plane\n",
    "log_moneyness_min = -0.1\n",
    "log_moneyness_max = 0.2\n",
    "smallest_time = df['time to maturity (years)'].unique()[1:].min()\n",
    "\n",
    "plot_df = df[((df['log_moneyness']<log_moneyness_max) & \n",
    "              (df['log_moneyness']>log_moneyness_min) & \n",
    "              (df['time to maturity (years)']>= smallest_time)\n",
    "             )]"
   ]
  },
  {
   "cell_type": "code",
   "execution_count": 18,
   "metadata": {},
   "outputs": [],
   "source": [
    "def plot_iv_surface(log_moneyness, maturity, iv, azim, elev, name):\n",
    "    \n",
    "    fig = plt.figure()\n",
    "    ax = fig.gca(projection='3d')\n",
    "    \n",
    "    ax.azim = azim\n",
    "    ax.elev = elev\n",
    "    \n",
    "    ax.set_xlabel('$m$')\n",
    "    ax.set_ylabel('$T$')\n",
    "    ax.set_zlabel('$\\sigma_{iv}(m, T)$')\n",
    "\n",
    "#     ax.yaxis.set_ticks(np.linspace(0, 0.2, 4, endpoint=False))\n",
    "#     ax.xaxis.set_ticks(np.linspace(-0.1, 0.28, 8, endpoint=True))\n",
    "    ax.invert_xaxis()\n",
    "\n",
    "    ax.xaxis.set_major_formatter(ticker.FormatStrFormatter('%0.2f'))\n",
    "    \n",
    "    ax.plot_trisurf(log_moneyness, \n",
    "                    maturity, \n",
    "                    iv, antialiased=True, cmap = plt.cm.Spectral)\n",
    "\n",
    "    plt.tight_layout()\n",
    "    fig.savefig(name)\n",
    "    \n",
    "    plt.close()\n",
    "\n",
    "plot_iv_surface(plot_df['log_moneyness'], plot_df['time to maturity (years)'], plot_df.iv, 110, 13, 'test.png')\n"
   ]
  },
  {
   "cell_type": "code",
   "execution_count": 14,
   "metadata": {},
   "outputs": [],
   "source": [
    "for angle in range(0,360, 10):\n",
    "    plot_iv_surface(plot_df['log_moneyness'], plot_df['time to maturity (years)'], plot_df.iv, angle, 10, 'test_{}.pdf'.format(angle))"
   ]
  },
  {
   "cell_type": "code",
   "execution_count": null,
   "metadata": {},
   "outputs": [],
   "source": []
  },
  {
   "cell_type": "code",
   "execution_count": null,
   "metadata": {},
   "outputs": [],
   "source": []
  }
 ],
 "metadata": {
  "kernelspec": {
   "display_name": "Python 3",
   "language": "python",
   "name": "python3"
  },
  "language_info": {
   "codemirror_mode": {
    "name": "ipython",
    "version": 3
   },
   "file_extension": ".py",
   "mimetype": "text/x-python",
   "name": "python",
   "nbconvert_exporter": "python",
   "pygments_lexer": "ipython3",
   "version": "3.6.3"
  }
 },
 "nbformat": 4,
 "nbformat_minor": 2
}
