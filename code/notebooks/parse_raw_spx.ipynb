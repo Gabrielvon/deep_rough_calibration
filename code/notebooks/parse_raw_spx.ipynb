{
 "cells": [
  {
   "cell_type": "markdown",
   "metadata": {},
   "source": [
    "# Parse raw SPX data"
   ]
  },
  {
   "cell_type": "markdown",
   "metadata": {},
   "source": [
    "In this notebook we import raw SPX data and make it usable for various tasks."
   ]
  },
  {
   "cell_type": "code",
   "execution_count": null,
   "metadata": {},
   "outputs": [],
   "source": [
    "# Standard library imports\n",
    "import numpy as np\n",
    "import pandas as pd\n",
    "import string\n",
    "import os\n",
    "from os.path import dirname as up"
   ]
  },
  {
   "cell_type": "markdown",
   "metadata": {},
   "source": [
    "First, we get settlement prices for call and put options on the S&P 500 index from www.cboe.com/DelayedQuote/QuoteTableDownload.aspx and read calls and puts into separate dfs."
   ]
  },
  {
   "cell_type": "code",
   "execution_count": null,
   "metadata": {},
   "outputs": [],
   "source": [
    "# Market parameters\n",
    "# spot_price = 2731.25\n",
    "today = pd.to_datetime('20180215', format='%Y%m%d', errors='coerce')\n",
    "nb_trading_days = 365\n",
    "\n",
    "# Read in raw SPX data \n",
    "deep_cal_dir = up(up(os.getcwd()))\n",
    "raw_df = pd.read_csv(deep_cal_dir + '/data/raw_data/spx_20180215.csv', skiprows=2)\n",
    "\n",
    "# Separate puts and calls\n",
    "df = raw_df.iloc[:,:7]\n",
    "df2 = raw_df.iloc[:,7:]\n",
    "del(raw_df)\n",
    "\n",
    "# Drop superfluous columns\n",
    "df.drop(['Last Sale', 'Net', 'Vol'], axis=1, inplace=True)\n",
    "# df2.drop(['Last Sale.1', 'Net.1', 'Vol.1', 'Unnamed: 14'], axis=1, inplace=True)\n",
    "df2.drop(['Last Sale.1', 'Net.1', 'Vol.1'], axis=1, inplace=True)\n",
    "df2.columns = ['Puts', 'Bid', 'Ask', 'Open Int']"
   ]
  },
  {
   "cell_type": "markdown",
   "metadata": {},
   "source": [
    "Extract information from ticker, write to separate df and then concatenate."
   ]
  },
  {
   "cell_type": "code",
   "execution_count": null,
   "metadata": {},
   "outputs": [],
   "source": [
    "def extract_info_from_ticker(data):\n",
    "    \n",
    "    # Create a dictionary for conversion of month code (A-L: Jan-Dec for \n",
    "    # call, M-X: Jan-Dec for put) to MM\n",
    "    letters = [letter for letter in string.ascii_uppercase[:24]]\n",
    "    numbers = [nb for nb in range(1, 13)] + [nb for nb in range(1, 13)]\n",
    "    cal_dict = dict(zip(letters,numbers))\n",
    "    \n",
    "    # Identify ticker from content\n",
    "    ticker = str(data).split(' ')[3][1:-1]\n",
    "    \n",
    "    # Is option European or American?\n",
    "    is_euro = True if ticker[-1] == 'E' else False\n",
    "    \n",
    "    # Is option Weekly?\n",
    "    is_weekly = True if ticker[3] == 'W' else False\n",
    "    \n",
    "    # Differentiate between variables ticker lengths for Weekly and \n",
    "    # Standard options\n",
    "    ticker = ticker[4:] if is_weekly else ticker[3:]\n",
    "    \n",
    "    # Detect time to maturity in years from ticker symbol.\n",
    "    yy = '20'+ ticker[0:2]\n",
    "    dd = ticker[2:4]\n",
    "    mm = str(cal_dict[ticker[4]]).zfill(2)\n",
    "    timestamp = pd.to_datetime(yy+mm+dd, format='%Y%m%d', errors='coerce')\n",
    "    dtm = (timestamp - today).days\n",
    "    dtm_frac = dtm/nb_trading_days\n",
    "    \n",
    "    # Detect moneyness from ticker symbol.\n",
    "    strike = ticker[5:9]\n",
    "    cont = True\n",
    "    i = 0\n",
    "\n",
    "    while cont:\n",
    "        cont = strike[i].isdigit()\n",
    "        if cont == False:\n",
    "            strike = strike[:i]\n",
    "        else:\n",
    "            i += 1\n",
    "            if i >= len(strike):\n",
    "                break\n",
    "    \n",
    "    log_moneyness = np.log(int(strike)/spot_price)\n",
    "    \n",
    "    return is_euro, is_weekly, dtm_frac, log_moneyness, int(strike)\n",
    "\n",
    "def parse_df(df, calls_or_puts):\n",
    "    \n",
    "    # Extract ticker information and store it.\n",
    "    supp_df = df[calls_or_puts].apply(extract_info_from_ticker).apply(pd.Series)\n",
    "    supp_df.columns = ['is_euro', 'is_weekly', 'time to maturity (years)', \n",
    "                       'log_moneyness', 'strike']\n",
    "    \n",
    "    supp_df.strike.astype('float64', copy=False)\n",
    "\n",
    "    # Merge two dataframes\n",
    "    df = pd.concat([df, supp_df], axis=1)\n",
    "    \n",
    "    # Drop the now redundant columns\n",
    "    df.drop([calls_or_puts], axis=1, inplace=True)\n",
    "    \n",
    "    # Remove all but European options\n",
    "    df = df[df['is_euro'] == True]\n",
    "    df.drop(['is_euro'], axis=1, inplace=True)\n",
    "    \n",
    "    # Only consider Weeklys\n",
    "    df = df[df['is_weekly'] == True]\n",
    "    df.drop(['is_weekly'], axis=1, inplace=True)\n",
    "    \n",
    "    df['Mid'] = (df.Bid + df.Ask)/2\n",
    "    \n",
    "    return df"
   ]
  },
  {
   "cell_type": "code",
   "execution_count": null,
   "metadata": {},
   "outputs": [],
   "source": [
    "df = parse_df(df, 'Calls')\n",
    "df2 = parse_df(df2, 'Puts') "
   ]
  },
  {
   "cell_type": "markdown",
   "metadata": {},
   "source": [
    "Export to .csv file for further tinkering."
   ]
  },
  {
   "cell_type": "code",
   "execution_count": null,
   "metadata": {},
   "outputs": [],
   "source": [
    "# df.drop(['Bid', 'Ask'], axis=1, inplace=True)\n",
    "df.to_csv(deep_cal_dir + '/data/raw_data/processed_spx_calls_all_liquids.csv')\n",
    "df2.to_csv(deep_cal_dir + '/data/raw_data/processed_spx_puts_all_liquids.csv')"
   ]
  },
  {
   "cell_type": "markdown",
   "metadata": {},
   "source": [
    "### Liquidity concerns"
   ]
  },
  {
   "cell_type": "markdown",
   "metadata": {},
   "source": [
    "Use *open interest* and *inverse bid ask spread* as liquidity proxies and drop all options where liquidity is 0."
   ]
  },
  {
   "cell_type": "code",
   "execution_count": null,
   "metadata": {},
   "outputs": [],
   "source": [
    "import matplotlib.pyplot as plt\n",
    "import seaborn as sns\n",
    "from matplotlib.ticker import StrMethodFormatter\n",
    "\n",
    "def set_style():\n",
    "\n",
    "    sns.set_context(\"paper\")\n",
    "\n",
    "    sns.set(font='serif')\n",
    "    \n",
    "    sns.set_style(\"white\", {\n",
    "        \"font.family\": \"serif\",\n",
    "        \"font.serif\": [\"Times\", \"Palatino\", \"serif\"]\n",
    "    })\n",
    "\n",
    "set_style()\n",
    "%matplotlib inline"
   ]
  },
  {
   "cell_type": "code",
   "execution_count": null,
   "metadata": {},
   "outputs": [],
   "source": [
    "# Open interest\n",
    "df = df[df['Open Int'] != 0]\n",
    "df2 = df2[df2['Open Int'] != 0]\n",
    "\n",
    "# Inverse bid ask spread\n",
    "df[\"inv_spread\"] = 1/(df.Ask - df.Bid)\n",
    "df2[\"inv_spread\"] = 1/(df2.Ask - df2.Bid)\n",
    "\n",
    "df.sort_values('inv_spread', inplace=True, ascending=True)\n",
    "df2.sort_values('inv_spread', inplace=True, ascending=True)"
   ]
  },
  {
   "cell_type": "markdown",
   "metadata": {},
   "source": [
    "In the following plot we can see that large parts of the parameter region have little liquidity."
   ]
  },
  {
   "cell_type": "code",
   "execution_count": null,
   "metadata": {},
   "outputs": [],
   "source": [
    "def plot_heatmap_by_liquidity(df, filename):\n",
    "\n",
    "    oi_pivot_df = df.pivot(index='time to maturity (years)', \n",
    "                           columns='log_moneyness', values='inv_spread')\n",
    "\n",
    "    ax = sns.heatmap(oi_pivot_df, cmap=plt.cm.Spectral, cbar=True, xticklabels=15, yticklabels=2)\n",
    "    ax.invert_yaxis()\n",
    "\n",
    "    plt.tight_layout()\n",
    "    fig = plt.gcf()\n",
    "    fig.savefig(filename)\n",
    "\n",
    "filename = deep_cal_dir +'/data/raw_data/liquidity_bid_ask_spread/spx_liquidity_heatmap_complete_puts.pdf'\n",
    "plot_heatmap_by_liquidity(df2, filename)"
   ]
  },
  {
   "cell_type": "markdown",
   "metadata": {},
   "source": [
    "We thus reduce the parameter region of the calls considered to $-0.1\\leq$ log_moneyness $\\leq 0.28$ and $1/365\\leq$ time to maturity $\\leq 0.2$ and plot another heatmap."
   ]
  },
  {
   "cell_type": "code",
   "execution_count": null,
   "metadata": {},
   "outputs": [],
   "source": [
    "df = df[df['log_moneyness'] <= 0.28]\n",
    "df = df[df['log_moneyness'] >= -0.1]\n",
    "df = df[df['time to maturity (years)'] <= 0.2]\n",
    "df = df[df['time to maturity (years)'] >= 1/365]"
   ]
  },
  {
   "cell_type": "code",
   "execution_count": null,
   "metadata": {},
   "outputs": [],
   "source": [
    "oi_pivot_df = df.pivot(index='time to maturity (years)', \n",
    "                       columns='log_moneyness', values='inv_spread')\n",
    "\n",
    "ax = sns.heatmap(oi_pivot_df, xticklabels=10, cmap=plt.cm.Spectral)\n",
    "ax.invert_yaxis()\n",
    "\n",
    "plt.tight_layout()\n",
    "fig = plt.gcf()\n",
    "fig.savefig(deep_cal_dir + '/data/raw_data/liquidity_bid_ask_spread/spx_liquidity_heatmap_reduced_calls.pdf')"
   ]
  },
  {
   "cell_type": "code",
   "execution_count": null,
   "metadata": {},
   "outputs": [],
   "source": [
    "df.head(5)"
   ]
  },
  {
   "cell_type": "markdown",
   "metadata": {},
   "source": [
    "Export to .csv file for further tinkering. "
   ]
  },
  {
   "cell_type": "code",
   "execution_count": null,
   "metadata": {},
   "outputs": [],
   "source": [
    "# df.drop(['Bid', 'Ask'], axis=1, inplace=True)\n",
    "df.sort_values('inv_spread', inplace=True, ascending=False)\n",
    "df.to_csv(deep_cal_dir + '/data/raw_data/liquidity_bid_ask_spread/spx_liquid_calls.csv')"
   ]
  },
  {
   "cell_type": "code",
   "execution_count": null,
   "metadata": {},
   "outputs": [],
   "source": [
    "a = df['time to maturity (years)'].unique()[2]\n",
    "df[df['time to maturity (years)'] == a].plot(x='log_moneyness', y='Mid')"
   ]
  },
  {
   "cell_type": "code",
   "execution_count": null,
   "metadata": {},
   "outputs": [],
   "source": []
  }
 ],
 "metadata": {
  "kernelspec": {
   "display_name": "Python 3",
   "language": "python",
   "name": "python3"
  },
  "language_info": {
   "codemirror_mode": {
    "name": "ipython",
    "version": 3
   },
   "file_extension": ".py",
   "mimetype": "text/x-python",
   "name": "python",
   "nbconvert_exporter": "python",
   "pygments_lexer": "ipython3",
   "version": "3.6.7"
  }
 },
 "nbformat": 4,
 "nbformat_minor": 2
}
