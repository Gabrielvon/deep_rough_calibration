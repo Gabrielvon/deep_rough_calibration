{
 "cells": [
  {
   "cell_type": "markdown",
   "metadata": {},
   "source": [
    "## Joint distribution of (moneyness,time_to_maturity)"
   ]
  },
  {
   "cell_type": "markdown",
   "metadata": {},
   "source": [
    "Data generation is an expensive and time-consuming task. Since we want our neural network to be as accurate as possible in the parameter region of greatest liquidity, it makes sense to provide more training data in that region by sampling more labeled data from it. Specifically, we will hence compute an empirical joint probability distribution of (moneyness, time_to_maturity) from SPX data where liquidity is proxied by *open interest*."
   ]
  },
  {
   "cell_type": "markdown",
   "metadata": {},
   "source": [
    "Extract information from ticker symbol and add to dataframe."
   ]
  },
  {
   "cell_type": "markdown",
   "metadata": {},
   "source": [
    "Next, we only consider European options and SPX Weeklys which expire every Monday, Wednesday and Friday. "
   ]
  },
  {
   "cell_type": "code",
   "execution_count": 1,
   "metadata": {},
   "outputs": [
    {
     "ename": "NameError",
     "evalue": "name 'df' is not defined",
     "output_type": "error",
     "traceback": [
      "\u001b[0;31m\u001b[0m",
      "\u001b[0;31mNameError\u001b[0mTraceback (most recent call last)",
      "\u001b[0;32m<ipython-input-1-a29405eb924b>\u001b[0m in \u001b[0;36m<module>\u001b[0;34m()\u001b[0m\n\u001b[0;32m----> 1\u001b[0;31m \u001b[0mdf\u001b[0m\u001b[0;34m.\u001b[0m\u001b[0mhead\u001b[0m\u001b[0;34m(\u001b[0m\u001b[0;36m5\u001b[0m\u001b[0;34m)\u001b[0m\u001b[0;34m\u001b[0m\u001b[0;34m\u001b[0m\u001b[0m\n\u001b[0m",
      "\u001b[0;31mNameError\u001b[0m: name 'df' is not defined"
     ]
    }
   ],
   "source": [
    "df.head(5)"
   ]
  },
  {
   "cell_type": "markdown",
   "metadata": {},
   "source": [
    "Possibility to export dataframe to csv file."
   ]
  },
  {
   "cell_type": "markdown",
   "metadata": {},
   "source": [
    "### KDE Estimation of (Moneyness, Time to Maturity)"
   ]
  },
  {
   "cell_type": "markdown",
   "metadata": {},
   "source": [
    "As discussed, our goal is to sample from $(moneyness, time to maturity)$ and more crucially, to sample more from parameter regions with higher liquidity as proxied by a higher inverse bid ask spread. The idea is to fit a Kernel Density Estimation to our data using the package ScikitLearn and then generate new samples from it."
   ]
  },
  {
   "cell_type": "code",
   "execution_count": null,
   "metadata": {},
   "outputs": [],
   "source": [
    "# Reindexing dataframe so that it starts from 1\n",
    "df = df.reset_index(drop=True)\n",
    "\n",
    "# Initiating a new df of appropriate size\n",
    "total_interest = df['Open Int'].sum()\n",
    "kde_df = pd.DataFrame(index = np.arange(0, total_interest), \n",
    "                      columns=['time to maturity (years)', 'moneyness'], \n",
    "                      dtype='float64')\n",
    "\n",
    "# Filling the new df with entries according to their multiplicities \n",
    "# proxied by open interest\n",
    "kde_index = 0\n",
    "\n",
    "for i in df.index:\n",
    "    \n",
    "    mult = df.loc[i, 'Open Int']\n",
    "    values = [df.loc[i, ['time to maturity (years)', 'moneyness']]]*mult\n",
    "    kde_df.loc[kde_index:kde_index + mult-1] = values\n",
    "    \n",
    "    kde_index += mult  "
   ]
  },
  {
   "cell_type": "markdown",
   "metadata": {},
   "source": [
    "#### Approach I : Seaborn visualization\n",
    "Seaborn is a visualization library and includes a KDE Plot. "
   ]
  },
  {
   "cell_type": "code",
   "execution_count": null,
   "metadata": {},
   "outputs": [],
   "source": [
    "fig, ax = plt.subplots()\n",
    "ax.set_title('Bivariate KDE of moneyness and time to maturity')\n",
    "x = kde_df['moneyness']\n",
    "y = kde_df['time to maturity (years)']\n",
    "ax = sns.kdeplot(x, y, cbar=True, shade=True, shade_lowest=False, cmap='BuPu')\n",
    "fig.savefig(\"sns_kde_money_maturities_V3.pdf\", dpi=400)"
   ]
  },
  {
   "cell_type": "markdown",
   "metadata": {},
   "source": [
    "The KDE plot shows what one might expect from the heatmap before. Unfortunately, Seaborn does not return the actual KDE model it computes in its backend, so we also can't sample from it. Digging in the source code reveals that it uses - if installed - the statsmodels KDE estimator. Otherwise it defaults to the scipy KDE estimator. So our next try will be to use the statsmodel implementation."
   ]
  },
  {
   "cell_type": "markdown",
   "metadata": {},
   "source": [
    "#### Approach II: Statsmodels"
   ]
  },
  {
   "cell_type": "code",
   "execution_count": null,
   "metadata": {},
   "outputs": [],
   "source": [
    "from statsmodels.nonparametric.kernel_density import KDEMultivariate"
   ]
  },
  {
   "cell_type": "code",
   "execution_count": null,
   "metadata": {
    "scrolled": true
   },
   "outputs": [],
   "source": [
    "X = kde_df[['moneyness', 'time to maturity (years)']]\n",
    "kde = KDEMultivariate(X, 'cc', bw='normal_reference')\n",
    "kde"
   ]
  },
  {
   "cell_type": "markdown",
   "metadata": {},
   "source": [
    "This algorithm is very fast but it lacks two important features:\n",
    "1. There is no method to sample from the distribution.\n",
    "2. There is no chance to include finite bounds for $(K,T)$ which is especially bad for $T$ as the KDE would span over the negative domain as well, losing probability mass over a nonsensible domain."
   ]
  },
  {
   "cell_type": "markdown",
   "metadata": {},
   "source": [
    "#### Approach III: Scikit-Learn KDE\n",
    "Unlike statsmodels, this KDE estimator does have a method to sample from but just like statsmodels there is no possibility to include bounds."
   ]
  },
  {
   "cell_type": "code",
   "execution_count": null,
   "metadata": {},
   "outputs": [],
   "source": [
    "from sklearn.neighbors import KernelDensity\n",
    "from sklearn.model_selection import GridSearchCV\n",
    "import statsmodels.nonparametric.api as smnp\n",
    "\n",
    "data = kde_df[['moneyness', 'time to maturity (years)']].values"
   ]
  },
  {
   "cell_type": "markdown",
   "metadata": {},
   "source": [
    "Two choices for bandwidth selection. Either Scott's rule or Cross validation. Run only one cell."
   ]
  },
  {
   "cell_type": "code",
   "execution_count": null,
   "metadata": {},
   "outputs": [],
   "source": [
    "# Scott's rule (rule of thumb) for bandwidth selection\n",
    "bw_x = smnp.bandwidths.bw_scott(df['moneyness'])\n",
    "bw_y = smnp.bandwidths.bw_scott(df['time to maturity (years)'])\n",
    "\n",
    "print('bw_x: {}, bw_y: {}'.format(bw_x, bw_y))\n",
    "\n",
    "kde = KernelDensity(bandwidth=max(bw_x, bw_y))"
   ]
  },
  {
   "cell_type": "code",
   "execution_count": null,
   "metadata": {},
   "outputs": [],
   "source": [
    "# use grid search cross-validation to optimize the bandwidth\n",
    "params = {'bandwidth': np.logspace(-3, -1, 5)}\n",
    "grid = GridSearchCV(KernelDensity(), params, verbose=sys.maxsize, n_jobs=-1)\n",
    "grid.fit(data)\n",
    "\n",
    "print(\"best bandwidth: {0}\".format(grid.best_estimator_.bandwidth))\n",
    "\n",
    "kde = grid.best_estimator_"
   ]
  },
  {
   "cell_type": "markdown",
   "metadata": {},
   "source": [
    "Run KDE Estimation of Data."
   ]
  },
  {
   "cell_type": "code",
   "execution_count": null,
   "metadata": {},
   "outputs": [],
   "source": [
    "kde.fit(data)"
   ]
  },
  {
   "cell_type": "markdown",
   "metadata": {},
   "source": [
    "Naturally, the KDE extends to regions outside the input region we have previously considered. That's why we will use rejection sampling below to compute our new samples.\n",
    "Remember we want $0.75\\leq moneyness \\leq 1.2$ and $0\\leq time to maturity \\leq 0.25$."
   ]
  },
  {
   "cell_type": "code",
   "execution_count": null,
   "metadata": {},
   "outputs": [],
   "source": [
    "nb_samples = 10**6\n",
    "new_data = pd.DataFrame(index=np.arange(10**6),\n",
    "                        columns=['moneyness', 'time to maturity (years)'],\n",
    "                        dtype='float64')\n",
    "\n",
    "valid_counter = 0\n",
    "\n",
    "while valid_counter < nb_samples:\n",
    "    \n",
    "    rem = nb_samples - valid_counter\n",
    "    \n",
    "    # Generate new samples from estimated probability density.\n",
    "    raw = kde.sample(rem)\n",
    "    \n",
    "    # Identify valid samples\n",
    "    is_valid = (raw[:,0]>0.75) & (raw[:,0]<1.2) & (raw[:,1]>0) & (raw[:,1]<0.25)\n",
    "    valid_samples = raw[is_valid]\n",
    "    nb_valid_samples = valid_samples.shape[0]\n",
    "    \n",
    "    # Writing to df\n",
    "    new_data.loc[valid_counter: valid_counter + nb_valid_samples - 1 ,:] = valid_samples\n",
    "\n",
    "    valid_counter += nb_valid_samples\n",
    "    \n",
    "# Save (moneyness,time to maturity (years)) to disk\n",
    "filepath = 'raw_data/money_maturities.csv'\n",
    "new_data.to_csv(filepath)"
   ]
  }
 ],
 "metadata": {
  "kernelspec": {
   "display_name": "Python 3",
   "language": "python",
   "name": "python3"
  },
  "language_info": {
   "codemirror_mode": {
    "name": "ipython",
    "version": 3
   },
   "file_extension": ".py",
   "mimetype": "text/x-python",
   "name": "python",
   "nbconvert_exporter": "python",
   "pygments_lexer": "ipython3",
   "version": "3.6.7"
  }
 },
 "nbformat": 4,
 "nbformat_minor": 2
}
